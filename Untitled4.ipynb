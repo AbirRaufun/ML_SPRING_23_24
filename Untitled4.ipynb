{
  "nbformat": 4,
  "nbformat_minor": 0,
  "metadata": {
    "colab": {
      "provenance": [],
      "authorship_tag": "ABX9TyMxSK1Z8x1jvsquxHbUzmoW"
    },
    "kernelspec": {
      "name": "python3",
      "display_name": "Python 3"
    },
    "language_info": {
      "name": "python"
    }
  },
  "cells": [
    {
      "cell_type": "code",
      "execution_count": 15,
      "metadata": {
        "id": "F3OQNGoMSDgV"
      },
      "outputs": [],
      "source": [
        "# Import required libraries\n",
        "import numpy as np\n",
        "import matplotlib.pyplot as plt\n",
        "from sklearn.datasets import make_classification\n",
        "from sklearn.preprocessing import OneHotEncoder\n",
        "from sklearn.model_selection import train_test_split\n",
        "from sklearn import metrics"
      ]
    },
    {
      "cell_type": "code",
      "source": [
        "n_samples = 100\n",
        "n_features = 8\n",
        "n_classes = 4\n",
        "\n",
        "# Generate dataset of 100 samples, 8 input features ande 4 output classes\n",
        "X, y = make_classification(\n",
        "    n_samples=n_samples,  # row number\n",
        "    n_features=n_features, # feature numbers\n",
        "    n_informative=5, # feature numbers\n",
        "    n_classes = n_classes, # The number of classes\n",
        "    random_state = 42 # random seed\n",
        ")\n",
        "\n",
        "#Split data into train and test data\n",
        "X_train, X_test, y_train, y_test = train_test_split(X, y, test_size=20, random_state=4)\n",
        "\n",
        "# One-hot encode training output\n",
        "onehot_encoder = OneHotEncoder(sparse=False)\n",
        "\n",
        "y_train = y_train.reshape(len(y_train), 1)\n",
        "y_train_encoded = onehot_encoder.fit_transform(y_train)\n",
        "\n",
        "# Print training data\n",
        "for i in range(10):\n",
        "    print('Training data features and output:')\n",
        "    print(X_train[i])\n",
        "    print(y_train_encoded[i])"
      ],
      "metadata": {
        "colab": {
          "base_uri": "https://localhost:8080/"
        },
        "id": "dl6RZsIgSLmZ",
        "outputId": "74df485d-ebdc-4970-8289-43cb992d8f3f"
      },
      "execution_count": 3,
      "outputs": [
        {
          "output_type": "stream",
          "name": "stdout",
          "text": [
            "Training data features and output:\n",
            "[ 3.08448642 -1.87655948  1.81561548 -0.08618734 -2.15474615  0.38361395\n",
            " -0.54035823 -1.22510618]\n",
            "[0. 0. 0. 1.]\n",
            "Training data features and output:\n",
            "[-2.31871435  1.44335156 -1.19982848  0.63955514  1.81807044 -0.33571507\n",
            "  0.11645124  0.55843745]\n",
            "[0. 1. 0. 0.]\n",
            "Training data features and output:\n",
            "[ 1.08140436 -0.1762244   0.28882915 -1.55961269  0.92002655 -0.79843905\n",
            "  1.64549034 -1.30835807]\n",
            "[0. 0. 0. 1.]\n",
            "Training data features and output:\n",
            "[ 3.19468955 -2.03654447  0.39021926 -2.05858449  1.10947028 -2.36972141\n",
            "  2.55547839 -2.74463759]\n",
            "[0. 0. 0. 1.]\n",
            "Training data features and output:\n",
            "[ 1.50123307 -1.07571468  2.50804888  0.35349917 -4.35769974  0.11960567\n",
            " -1.1650881   1.1151211 ]\n",
            "[0. 0. 1. 0.]\n",
            "Training data features and output:\n",
            "[-0.27875337  1.73880595 -1.52790023 -0.26438952  2.11695607  0.55186366\n",
            " -2.0614334  -0.75324988]\n",
            "[0. 0. 1. 0.]\n",
            "Training data features and output:\n",
            "[ 2.08969416 -1.76113608 -0.37868144 -0.48678884  2.86610283 -1.52401524\n",
            "  2.37600024 -3.30941975]\n",
            "[0. 0. 0. 1.]\n",
            "Training data features and output:\n",
            "[ 1.81707877  1.51698779  0.65406767 -1.25446663  4.63360729 -0.65723332\n",
            "  1.37801699 -5.14607267]\n",
            "[1. 0. 0. 0.]\n",
            "Training data features and output:\n",
            "[-1.46694506  2.08831485  1.11591113  0.13503767  1.88250703 -1.66977917\n",
            "  1.48672283 -1.24780456]\n",
            "[1. 0. 0. 0.]\n",
            "Training data features and output:\n",
            "[ 4.52930286 -2.68480049  1.46848101 -1.21524067 -1.10017835  0.19855836\n",
            "  0.47349069 -2.5983803 ]\n",
            "[0. 0. 0. 1.]\n"
          ]
        },
        {
          "output_type": "stream",
          "name": "stderr",
          "text": [
            "/usr/local/lib/python3.10/dist-packages/sklearn/preprocessing/_encoders.py:868: FutureWarning: `sparse` was renamed to `sparse_output` in version 1.2 and will be removed in 1.4. `sparse_output` is ignored unless you leave `sparse` to its default value.\n",
            "  warnings.warn(\n"
          ]
        }
      ]
    },
    {
      "cell_type": "code",
      "source": [
        "class NeuralNetwork(object):\n",
        "    def __init__(self):\n",
        "        inputLayerNeurons = 8\n",
        "        hiddenLayerNeurons = 10\n",
        "        outputLayerNeurons = 4\n",
        "\n",
        "        self.learning_rate = 0.2\n",
        "        # Initialize weight matrices for hidden and output layers\n",
        "        self.W_HI_1 = np.random.randn(inputLayerNeurons, hiddenLayerNeurons)\n",
        "        self.W_HI_2 = np.random.randn(hiddenLayerNeurons, hiddenLayerNeurons)\n",
        "        self.W_HO = np.random.randn(hiddenLayerNeurons, outputLayerNeurons)\n",
        "\n",
        "    def sigmoid(self, x, der=False):\n",
        "        if der:\n",
        "            return x * (1-x)\n",
        "        return 1 / (1 + np.exp(-x))\n",
        "\n",
        "    def feedForward(self, X):\n",
        "        self.hidden_input_1 = np.dot(X, self.W_HI_1)\n",
        "        self.hidden_output_1 = self.sigmoid(self.hidden_input_1)\n",
        "\n",
        "        self.hidden_input_2 = np.dot(self.hidden_output_1, self.W_HI_2)\n",
        "        self.hidden_output_2 = self.sigmoid(self.hidden_input_2)\n",
        "\n",
        "        self.output_input = np.dot(self.hidden_output_2, self.W_HO)\n",
        "        self.output = self.sigmoid(self.output_input)\n",
        "\n",
        "        return self.output\n",
        "\n",
        "    def backPropagation(self, X, Y, pred):\n",
        "        output_error = Y - pred\n",
        "        output_delta = output_error * self.sigmoid(pred, der=True)\n",
        "\n",
        "        hidden_error_2 = output_delta.dot(self.W_HO.T)\n",
        "        hidden_delta_2 = hidden_error_2 * self.sigmoid(self.hidden_output_2, der=True)\n",
        "\n",
        "        hidden_error_1 = hidden_delta_2.dot(self.W_HI_2.T)\n",
        "        hidden_delta_1 = hidden_error_1 * self.sigmoid(self.hidden_output_1, der=True)\n",
        "\n",
        "        self.W_HO += self.hidden_output_2.T.dot(output_delta) * self.learning_rate\n",
        "        self.W_HI_2 += self.hidden_output_1.T.dot(hidden_delta_2) * self.learning_rate\n",
        "        self.W_HI_1 += X.T.dot(hidden_delta_1) * self.learning_rate\n",
        "\n",
        "    def train(self, X, Y):\n",
        "        output = self.feedForward(X)\n",
        "        self.backPropagation(X, Y, output)"
      ],
      "metadata": {
        "id": "dUixixcuShDf"
      },
      "execution_count": 8,
      "outputs": []
    },
    {
      "cell_type": "code",
      "source": [
        "NN = NeuralNetwork()\n",
        "\n",
        "# Train model for 5000 iterations and plot loss\n",
        "err = []\n",
        "for i in range(5000):\n",
        "    NN.train(X_train, y_train_encoded)\n",
        "    err.append(np.mean(np.square(y_train_encoded - NN.feedForward(X_train))))\n",
        "\n",
        "print(\"Error on training data:\")\n",
        "plt.plot(err)\n",
        "plt.xlabel('Iterations')\n",
        "plt.ylabel('Mean Squared Error')\n",
        "plt.show()\n"
      ],
      "metadata": {
        "colab": {
          "base_uri": "https://localhost:8080/",
          "height": 469
        },
        "id": "zoNGOUYhVwod",
        "outputId": "891fb98e-2349-403d-b2c9-db52dff9a809"
      },
      "execution_count": 7,
      "outputs": [
        {
          "output_type": "stream",
          "name": "stdout",
          "text": [
            "Error on training data:\n"
          ]
        },
        {
          "output_type": "display_data",
          "data": {
            "text/plain": [
              "<Figure size 640x480 with 1 Axes>"
            ],
            "image/png": "[encoded data removed]"
          },
          "metadata": {}
        }
      ]
    },
    {
      "cell_type": "code",
      "source": [
        "# Run trained model on test data\n",
        "y_pred = NN.feedForward(X_test)\n",
        "\n",
        "print(\"Model output:\")\n",
        "print(y_pred)"
      ],
      "metadata": {
        "colab": {
          "base_uri": "https://localhost:8080/"
        },
        "id": "fKfUoPicV6ZL",
        "outputId": "cabe7efd-5cd5-4d92-d90d-c3eb2fc18b24"
      },
      "execution_count": 9,
      "outputs": [
        {
          "output_type": "stream",
          "name": "stdout",
          "text": [
            "Model output:\n",
            "[[2.22031786e-02 1.62015226e-06 9.97311900e-01 6.04080175e-04]\n",
            " [2.36126382e-03 1.18253360e-02 7.43777441e-08 9.64863237e-01]\n",
            " [9.66822179e-01 1.50011490e-06 1.47707843e-02 2.82991079e-06]\n",
            " [2.61600669e-04 9.99737827e-01 4.76258285e-08 1.96439368e-04]\n",
            " [1.56075915e-04 3.09501630e-05 2.67405735e-01 7.53755685e-01]\n",
            " [9.90691446e-01 1.32921968e-04 3.06628120e-05 4.86135489e-03]\n",
            " [9.76616215e-01 1.63383938e-06 8.61237828e-03 2.24512736e-06]\n",
            " [1.62097962e-08 9.99893326e-01 1.35445719e-03 1.72087919e-02]\n",
            " [8.93071472e-03 3.60834357e-06 9.82468538e-01 7.58332000e-03]\n",
            " [9.73551082e-01 1.80092599e-04 1.41310242e-08 3.11276525e-01]\n",
            " [3.72984152e-01 6.72865571e-02 9.52871675e-05 2.19016463e-04]\n",
            " [5.07291525e-04 6.97936270e-03 4.49801566e-02 1.32472836e-02]\n",
            " [4.83216497e-05 1.96968653e-04 8.39007454e-04 9.99461796e-01]\n",
            " [3.26884633e-03 9.97945187e-01 6.70479416e-03 2.16490210e-09]\n",
            " [4.38119296e-05 9.99509347e-01 1.94563260e-03 3.58577017e-06]\n",
            " [9.76447584e-01 1.63276179e-06 8.72562377e-03 2.25444473e-06]\n",
            " [9.51997681e-04 1.42339179e-02 2.93974058e-03 4.79166945e-02]\n",
            " [4.83774980e-03 4.10312334e-03 2.20580612e-02 9.84255050e-04]\n",
            " [2.08283002e-03 2.13239771e-05 9.95031517e-01 7.82307367e-04]\n",
            " [7.94032984e-05 9.99835925e-01 2.91416912e-07 4.15871829e-04]]\n"
          ]
        }
      ]
    },
    {
      "cell_type": "code",
      "source": [
        "# One-hot encoded predictions\n",
        "new_y_pred = np.zeros(y_pred.shape)\n",
        "max_y_pred = np.argmax(y_pred, axis=1)\n",
        "for i in range(len(y_pred)):\n",
        "    new_y_pred[i][max_y_pred[i]] = 1\n",
        "\n",
        "print(\"One-hot encoded output:\")\n",
        "print(new_y_pred)"
      ],
      "metadata": {
        "colab": {
          "base_uri": "https://localhost:8080/"
        },
        "id": "cHJx_k3wWF9d",
        "outputId": "592f73bc-e0b0-4411-e443-29bf51b9906a"
      },
      "execution_count": 10,
      "outputs": [
        {
          "output_type": "stream",
          "name": "stdout",
          "text": [
            "One-hot encoded output:\n",
            "[[0. 0. 1. 0.]\n",
            " [0. 0. 0. 1.]\n",
            " [1. 0. 0. 0.]\n",
            " [0. 1. 0. 0.]\n",
            " [0. 0. 0. 1.]\n",
            " [1. 0. 0. 0.]\n",
            " [1. 0. 0. 0.]\n",
            " [0. 1. 0. 0.]\n",
            " [0. 0. 1. 0.]\n",
            " [1. 0. 0. 0.]\n",
            " [1. 0. 0. 0.]\n",
            " [0. 0. 1. 0.]\n",
            " [0. 0. 0. 1.]\n",
            " [0. 1. 0. 0.]\n",
            " [0. 1. 0. 0.]\n",
            " [1. 0. 0. 0.]\n",
            " [0. 0. 0. 1.]\n",
            " [0. 0. 1. 0.]\n",
            " [0. 0. 1. 0.]\n",
            " [0. 1. 0. 0.]]\n"
          ]
        }
      ]
    },
    {
      "cell_type": "code",
      "source": [
        "\n",
        "# Obtain predicted output values\n",
        "y_pred = new_y_pred.argmax(axis=1)\n",
        "print(\"Predicted values: \", y_pred)\n"
      ],
      "metadata": {
        "colab": {
          "base_uri": "https://localhost:8080/"
        },
        "id": "oQVERio9WMtG",
        "outputId": "92cfb2d9-a030-4538-c981-f42dd5cc24cf"
      },
      "execution_count": 11,
      "outputs": [
        {
          "output_type": "stream",
          "name": "stdout",
          "text": [
            "Predicted values:  [2 3 0 1 3 0 0 1 2 0 0 2 3 1 1 0 3 2 2 1]\n"
          ]
        }
      ]
    },
    {
      "cell_type": "code",
      "source": [
        "# Print true output values\n",
        "y_test = y_test.flatten()\n",
        "print(\"Actual values: \", y_test)"
      ],
      "metadata": {
        "colab": {
          "base_uri": "https://localhost:8080/"
        },
        "id": "uV7zugeMWSg3",
        "outputId": "3302cda5-d2b2-48f4-b5cf-744b0aadcab7"
      },
      "execution_count": 12,
      "outputs": [
        {
          "output_type": "stream",
          "name": "stdout",
          "text": [
            "Actual values:  [3 0 0 1 2 0 2 3 2 0 1 0 3 1 1 2 0 2 0 1]\n"
          ]
        }
      ]
    },
    {
      "cell_type": "code",
      "source": [
        "# Obtain accuracy on test data\n",
        "def accuracy(y_pred, y_true):\n",
        "    acc = y_pred == y_true\n",
        "    print(\"Predictions: \", acc)\n",
        "    return acc.mean()\n",
        "\n",
        "print(\"Accuracy: \", accuracy(y_pred, y_test))"
      ],
      "metadata": {
        "colab": {
          "base_uri": "https://localhost:8080/"
        },
        "id": "Ka6d3hIrWVVR",
        "outputId": "c2a1c15a-37f7-4fd7-f66f-bf46c564f055"
      },
      "execution_count": 13,
      "outputs": [
        {
          "output_type": "stream",
          "name": "stdout",
          "text": [
            "Predictions:  [False False  True  True False  True False False  True  True False False\n",
            "  True  True  True False False  True False  True]\n",
            "Accuracy:  0.5\n"
          ]
        }
      ]
    },
    {
      "cell_type": "code",
      "source": [
        "# Print confusion matrix\n",
        "confusion_matrix = metrics.confusion_matrix(y_test, y_pred)\n",
        "print(\"Confusion matrix: \\n\", confusion_matrix)"
      ],
      "metadata": {
        "colab": {
          "base_uri": "https://localhost:8080/"
        },
        "id": "Uy2cP0OcWadZ",
        "outputId": "3005cacd-c7d2-4aff-e92f-83ff9681b425"
      },
      "execution_count": 16,
      "outputs": [
        {
          "output_type": "stream",
          "name": "stdout",
          "text": [
            "Confusion matrix: \n",
            " [[3 0 2 2]\n",
            " [1 4 0 0]\n",
            " [2 0 2 1]\n",
            " [0 1 1 1]]\n"
          ]
        }
      ]
    },
    {
      "cell_type": "code",
      "source": [],
      "metadata": {
        "id": "KtWhOP3_WeWf"
      },
      "execution_count": null,
      "outputs": []
    }
  ]
}